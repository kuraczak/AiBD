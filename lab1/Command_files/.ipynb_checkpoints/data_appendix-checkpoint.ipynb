{
 "cells": [
  {
   "cell_type": "markdown",
   "metadata": {},
   "source": [
    "# Data Appendix\n",
    "\n",
    "#data \n",
    "data prowadzenia obserwacji, w formacie YYYY-m-d - bez zer wiodących\n",
    "\n",
    "#Min: \n",
    "minimalna temperatura w podany dzięń w [F]\n",
    "\n",
    "#Max: \n",
    "maksymalna temperatura w podany dzień w [F]\n"
   ]
  },
  {
   "cell_type": "markdown",
   "metadata": {},
   "source": [
    "## Histogramy"
   ]
  },
  {
   "cell_type": "code",
   "execution_count": 13,
   "metadata": {},
   "outputs": [
    {
     "data": {
      "text/plain": [
       "0"
      ]
     },
     "execution_count": 13,
     "metadata": {},
     "output_type": "execute_result"
    },
    {
     "data": {
      "image/png": "[encoded data removed]",
      "text/plain": [
       "<Figure size 432x288 with 2 Axes>"
      ]
     },
     "metadata": {
      "needs_background": "light"
     },
     "output_type": "display_data"
    }
   ],
   "source": [
    "import pandas as pd\n",
    "import matplotlib.pyplot as plt\n",
    "import os\n",
    "import matplotlib.pyplot as plt\n",
    "\n",
    "\n",
    "\n",
    "data=pd.read_csv(\"../Analysis_data/weather_tidy_temp.csv\")\n",
    "\n",
    "#Usunięcie nieprawidłowych wartości\n",
    "data=data[data.TMAX!=-9999]\n",
    "data=data[data.TMIN!=-9999]\n",
    "datac=data.copy()\n",
    "\n",
    "data.hist()\n",
    "os.system('jupyter nbconvert --to html data_appendix.ipynb --TemplateExporter.exclude_input=True  --output ../Documents/data_appendix.html ')"
   ]
  },
  {
   "cell_type": "markdown",
   "metadata": {},
   "source": [
    "## Średnie"
   ]
  },
  {
   "cell_type": "code",
   "execution_count": 2,
   "metadata": {},
   "outputs": [
    {
     "data": {
      "text/plain": [
       "TMAX    271.321932\n",
       "TMIN    146.181206\n",
       "dtype: float64"
      ]
     },
     "execution_count": 2,
     "metadata": {},
     "output_type": "execute_result"
    }
   ],
   "source": [
    "data.mean()"
   ]
  },
  {
   "cell_type": "markdown",
   "metadata": {},
   "source": [
    "## średnie temperatury wg miesiąca"
   ]
  },
  {
   "cell_type": "code",
   "execution_count": 3,
   "metadata": {
    "scrolled": true
   },
   "outputs": [
    {
     "data": {
      "text/html": [
       "<div>\n",
       "<style scoped>\n",
       "    .dataframe tbody tr th:only-of-type {\n",
       "        vertical-align: middle;\n",
       "    }\n",
       "\n",
       "    .dataframe tbody tr th {\n",
       "        vertical-align: top;\n",
       "    }\n",
       "\n",
       "    .dataframe thead th {\n",
       "        text-align: right;\n",
       "    }\n",
       "</style>\n",
       "<table border=\"1\" class=\"dataframe\">\n",
       "  <thead>\n",
       "    <tr style=\"text-align: right;\">\n",
       "      <th></th>\n",
       "      <th>TMAX</th>\n",
       "      <th>TMIN</th>\n",
       "    </tr>\n",
       "    <tr>\n",
       "      <th>data</th>\n",
       "      <th></th>\n",
       "      <th></th>\n",
       "    </tr>\n",
       "  </thead>\n",
       "  <tbody>\n",
       "    <tr>\n",
       "      <td>1</td>\n",
       "      <td>255.225771</td>\n",
       "      <td>120.025330</td>\n",
       "    </tr>\n",
       "    <tr>\n",
       "      <td>2</td>\n",
       "      <td>270.238636</td>\n",
       "      <td>129.361364</td>\n",
       "    </tr>\n",
       "    <tr>\n",
       "      <td>3</td>\n",
       "      <td>293.169528</td>\n",
       "      <td>146.198498</td>\n",
       "    </tr>\n",
       "    <tr>\n",
       "      <td>4</td>\n",
       "      <td>308.801347</td>\n",
       "      <td>163.034792</td>\n",
       "    </tr>\n",
       "    <tr>\n",
       "      <td>5</td>\n",
       "      <td>301.795643</td>\n",
       "      <td>167.288382</td>\n",
       "    </tr>\n",
       "    <tr>\n",
       "      <td>6</td>\n",
       "      <td>274.365510</td>\n",
       "      <td>163.965293</td>\n",
       "    </tr>\n",
       "    <tr>\n",
       "      <td>7</td>\n",
       "      <td>264.356906</td>\n",
       "      <td>155.868508</td>\n",
       "    </tr>\n",
       "    <tr>\n",
       "      <td>8</td>\n",
       "      <td>262.689796</td>\n",
       "      <td>155.495918</td>\n",
       "    </tr>\n",
       "    <tr>\n",
       "      <td>9</td>\n",
       "      <td>254.793919</td>\n",
       "      <td>152.924804</td>\n",
       "    </tr>\n",
       "    <tr>\n",
       "      <td>10</td>\n",
       "      <td>261.220779</td>\n",
       "      <td>143.439560</td>\n",
       "    </tr>\n",
       "    <tr>\n",
       "      <td>11</td>\n",
       "      <td>259.571582</td>\n",
       "      <td>132.920344</td>\n",
       "    </tr>\n",
       "    <tr>\n",
       "      <td>12</td>\n",
       "      <td>250.125666</td>\n",
       "      <td>122.681576</td>\n",
       "    </tr>\n",
       "  </tbody>\n",
       "</table>\n",
       "</div>"
      ],
      "text/plain": [
       "            TMAX        TMIN\n",
       "data                        \n",
       "1     255.225771  120.025330\n",
       "2     270.238636  129.361364\n",
       "3     293.169528  146.198498\n",
       "4     308.801347  163.034792\n",
       "5     301.795643  167.288382\n",
       "6     274.365510  163.965293\n",
       "7     264.356906  155.868508\n",
       "8     262.689796  155.495918\n",
       "9     254.793919  152.924804\n",
       "10    261.220779  143.439560\n",
       "11    259.571582  132.920344\n",
       "12    250.125666  122.681576"
      ]
     },
     "execution_count": 3,
     "metadata": {},
     "output_type": "execute_result"
    }
   ],
   "source": [
    "data=datac.copy()\n",
    "datas=data[\"data\"].str.split(\"-\").str[1].astype(int)\n",
    "data[\"data\"]=datas\n",
    "avgs=data.groupby(\"data\").mean().sort_values(by=['data'])\n",
    "avgs"
   ]
  },
  {
   "cell_type": "code",
   "execution_count": 4,
   "metadata": {},
   "outputs": [
    {
     "data": {
      "image/png": "[encoded data removed]",
      "text/plain": [
       "<Figure size 432x288 with 1 Axes>"
      ]
     },
     "metadata": {
      "needs_background": "light"
     },
     "output_type": "display_data"
    }
   ],
   "source": [
    "plt.plot(range(1,13), avgs[\"TMAX\"])\n",
    "plt.plot(range(1,13), avgs[\"TMIN\"])\n",
    "plt.title('średnia max/minimalna temperataura w miesiącu')\n",
    "plt.grid(True)\n",
    "plt.legend(['TMAX','TMIN'])\n",
    "plt.xlabel(\"temp [F]\")\n",
    "plt.ylabel(\"miesiąc\")\n",
    "plt.show()"
   ]
  },
  {
   "cell_type": "markdown",
   "metadata": {},
   "source": [
    "## Odchylenie danych"
   ]
  },
  {
   "cell_type": "code",
   "execution_count": 5,
   "metadata": {},
   "outputs": [
    {
     "data": {
      "text/plain": [
       "data     3.434471\n",
       "TMAX    31.191658\n",
       "TMIN    23.135775\n",
       "dtype: float64"
      ]
     },
     "execution_count": 5,
     "metadata": {},
     "output_type": "execute_result"
    }
   ],
   "source": [
    "data=datac.copy()\n",
    "data.std()"
   ]
  },
  {
   "cell_type": "markdown",
   "metadata": {},
   "source": [
    "## minimalne  wartości w kolumnach"
   ]
  },
  {
   "cell_type": "code",
   "execution_count": 6,
   "metadata": {},
   "outputs": [
    {
     "data": {
      "text/plain": [
       "data      1.0\n",
       "TMAX    110.0\n",
       "TMIN     30.0\n",
       "dtype: float64"
      ]
     },
     "execution_count": 6,
     "metadata": {},
     "output_type": "execute_result"
    }
   ],
   "source": [
    "data.min()"
   ]
  },
  {
   "cell_type": "markdown",
   "metadata": {},
   "source": [
    "## minimalne  wartości w kolumnach"
   ]
  },
  {
   "cell_type": "code",
   "execution_count": 7,
   "metadata": {},
   "outputs": [
    {
     "data": {
      "text/plain": [
       "data     12.0\n",
       "TMAX    385.0\n",
       "TMIN    290.0\n",
       "dtype: float64"
      ]
     },
     "execution_count": 7,
     "metadata": {},
     "output_type": "execute_result"
    }
   ],
   "source": [
    "data.max()"
   ]
  },
  {
   "cell_type": "markdown",
   "metadata": {},
   "source": [
    "## ilość poprawynych wartości w kolumnach"
   ]
  },
  {
   "cell_type": "code",
   "execution_count": 8,
   "metadata": {},
   "outputs": [
    {
     "data": {
      "text/plain": [
       "data    11824\n",
       "TMAX    11139\n",
       "TMIN    11142\n",
       "dtype: int64"
      ]
     },
     "execution_count": 8,
     "metadata": {},
     "output_type": "execute_result"
    }
   ],
   "source": [
    "data.count()"
   ]
  }
 ],
 "metadata": {
  "kernelspec": {
   "display_name": "Python 3",
   "language": "python",
   "name": "python3"
  },
  "language_info": {
   "codemirror_mode": {
    "name": "ipython",
    "version": 3
   },
   "file_extension": ".py",
   "mimetype": "text/x-python",
   "name": "python",
   "nbconvert_exporter": "python",
   "pygments_lexer": "ipython3",
   "version": "3.6.8"
  }
 },
 "nbformat": 4,
 "nbformat_minor": 2
}
